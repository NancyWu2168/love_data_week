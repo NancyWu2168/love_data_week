{
 "cells": [
  {
   "cell_type": "code",
   "execution_count": 1,
   "metadata": {
    "collapsed": true
   },
   "outputs": [],
   "source": [
    "import pandas as pd\n",
    "import numpy as np"
   ]
  },
  {
   "cell_type": "code",
   "execution_count": 2,
   "metadata": {
    "collapsed": true
   },
   "outputs": [],
   "source": [
    "data = pd.read_csv('Stop_and_Frisk.csv')"
   ]
  },
  {
   "cell_type": "code",
   "execution_count": 3,
   "metadata": {},
   "outputs": [
    {
     "name": "stdout",
     "output_type": "stream",
     "text": [
      "  Day of the Week      Field Contact Date Street Number       Street Name  \\\n",
      "0             Mon  03/18/2019 11:51:00 AM          1100  CHURCH ST/OAK AV   \n",
      "1             Mon  03/18/2019 07:41:00 AM          1600        SHERMAN AV   \n",
      "2             Mon  03/18/2019 01:24:00 AM           100        ELMWOOD AV   \n",
      "3             Sat  03/16/2019 10:02:00 PM          3300           GOLF RD   \n",
      "4             Sat  03/16/2019 10:02:00 PM          3300           GOLF RD   \n",
      "\n",
      "       City  \n",
      "0  EVANSTON  \n",
      "1  EVANSTON  \n",
      "2  EVANSTON  \n",
      "3    SKOKIE  \n",
      "4    SKOKIE  \n"
     ]
    }
   ],
   "source": [
    "print(data.head(5))"
   ]
  },
  {
   "cell_type": "code",
   "execution_count": 4,
   "metadata": {
    "collapsed": true
   },
   "outputs": [],
   "source": [
    "week = data['Day of the Week']"
   ]
  },
  {
   "cell_type": "code",
   "execution_count": 5,
   "metadata": {
    "collapsed": true
   },
   "outputs": [],
   "source": [
    "df = pd.DataFrame(data,columns =['Day of the Week','Field Contact Date','Street Number','City'])"
   ]
  },
  {
   "cell_type": "code",
   "execution_count": 6,
   "metadata": {},
   "outputs": [
    {
     "name": "stdout",
     "output_type": "stream",
     "text": [
      "1806\n",
      "0       03/18/2019 11:51:00 AM\n",
      "1       03/18/2019 07:41:00 AM\n",
      "2       03/18/2019 01:24:00 AM\n",
      "3       03/16/2019 10:02:00 PM\n",
      "4       03/16/2019 10:02:00 PM\n",
      "5       03/16/2019 10:02:00 PM\n",
      "6       03/16/2019 01:08:00 AM\n",
      "7       03/15/2019 04:44:00 PM\n",
      "8       03/13/2019 11:44:00 PM\n",
      "9       03/13/2019 07:41:00 AM\n",
      "10      03/11/2019 12:33:00 PM\n",
      "11      03/10/2019 01:59:00 AM\n",
      "12      03/08/2019 11:40:00 PM\n",
      "13      03/04/2019 09:46:00 AM\n",
      "14      03/03/2019 01:43:00 AM\n",
      "15      03/03/2019 01:40:00 AM\n",
      "16      02/28/2019 11:06:00 PM\n",
      "17      02/28/2019 06:29:00 PM\n",
      "18      02/27/2019 09:28:00 AM\n",
      "19      02/27/2019 01:36:00 AM\n",
      "20      02/26/2019 05:48:00 PM\n",
      "21      02/25/2019 06:40:00 PM\n",
      "22      02/25/2019 04:30:00 PM\n",
      "23      02/25/2019 04:30:00 PM\n",
      "24      02/25/2019 04:13:00 PM\n",
      "25      02/24/2019 05:18:00 AM\n",
      "26      02/23/2019 12:19:00 AM\n",
      "27      02/21/2019 03:59:00 PM\n",
      "28      02/21/2019 03:59:00 PM\n",
      "29      02/21/2019 03:59:00 PM\n",
      "                 ...          \n",
      "1776    10/07/2016 08:14:00 PM\n",
      "1777    10/07/2016 09:07:00 AM\n",
      "1778    10/07/2016 08:58:00 AM\n",
      "1779    10/07/2016 03:07:00 AM\n",
      "1780    10/07/2016 03:07:00 AM\n",
      "1781    10/06/2016 11:22:00 PM\n",
      "1782    10/06/2016 11:05:00 PM\n",
      "1783    10/06/2016 10:57:00 PM\n",
      "1784    10/06/2016 10:28:00 PM\n",
      "1785    10/06/2016 04:30:00 AM\n",
      "1786    10/06/2016 03:43:00 AM\n",
      "1787    10/06/2016 01:56:00 AM\n",
      "1788    10/06/2016 01:55:00 AM\n",
      "1789    10/05/2016 11:30:00 PM\n",
      "1790    10/05/2016 11:08:00 PM\n",
      "1791    10/05/2016 10:18:00 PM\n",
      "1792    10/05/2016 10:12:00 PM\n",
      "1793    10/05/2016 10:00:00 PM\n",
      "1794    10/05/2016 04:53:00 AM\n",
      "1795    10/04/2016 08:21:00 PM\n",
      "1796    10/03/2016 11:46:00 PM\n",
      "1797    10/03/2016 11:46:00 PM\n",
      "1798    10/03/2016 01:25:00 AM\n",
      "1799    10/03/2016 01:25:00 AM\n",
      "1800    10/03/2016 01:25:00 AM\n",
      "1801    10/03/2016 01:25:00 AM\n",
      "1802    10/02/2016 10:00:00 PM\n",
      "1803    10/02/2016 10:00:00 PM\n",
      "1804    10/01/2016 06:43:00 PM\n",
      "1805    10/01/2016 06:43:00 PM\n",
      "Name: Field Contact Date, Length: 1806, dtype: object\n"
     ]
    }
   ],
   "source": [
    "City = df['City']\n",
    "time = df['Field Contact Date']\n",
    "print(len(City))\n",
    "print(time)"
   ]
  },
  {
   "cell_type": "code",
   "execution_count": 7,
   "metadata": {},
   "outputs": [],
   "source": [
    "#print(City)"
   ]
  },
  {
   "cell_type": "code",
   "execution_count": 8,
   "metadata": {
    "collapsed": true
   },
   "outputs": [],
   "source": [
    "index_not_Evanston = [i for i in range(len(City)) if City[i] != 'EVANSTON'] "
   ]
  },
  {
   "cell_type": "code",
   "execution_count": 9,
   "metadata": {},
   "outputs": [
    {
     "name": "stdout",
     "output_type": "stream",
     "text": [
      "226\n"
     ]
    }
   ],
   "source": [
    "print(len(index_not_Evanston))"
   ]
  },
  {
   "cell_type": "code",
   "execution_count": 10,
   "metadata": {},
   "outputs": [
    {
     "name": "stdout",
     "output_type": "stream",
     "text": [
      "0\n"
     ]
    }
   ],
   "source": [
    "index_not_Evnstn = [i for i in range(len(City)) if City[i] == 'EVNSTN'] \n",
    "print(len(index_not_Evnstn))"
   ]
  },
  {
   "cell_type": "code",
   "execution_count": 11,
   "metadata": {},
   "outputs": [
    {
     "name": "stdout",
     "output_type": "stream",
     "text": [
      "0\n"
     ]
    }
   ],
   "source": [
    "index_not_Evan = [i for i in range(len(City)) if City[i] == 'EVAN'] \n",
    "print(len(index_not_Evan))"
   ]
  },
  {
   "cell_type": "code",
   "execution_count": 12,
   "metadata": {
    "collapsed": true
   },
   "outputs": [],
   "source": [
    "df = df.drop(index_not_Evanston)"
   ]
  },
  {
   "cell_type": "code",
   "execution_count": 13,
   "metadata": {
    "collapsed": true
   },
   "outputs": [],
   "source": [
    "df.reset_index(inplace=True)"
   ]
  },
  {
   "cell_type": "code",
   "execution_count": 14,
   "metadata": {},
   "outputs": [
    {
     "name": "stdout",
     "output_type": "stream",
     "text": [
      "1580\n"
     ]
    }
   ],
   "source": [
    "print(len(df))"
   ]
  },
  {
   "cell_type": "code",
   "execution_count": 15,
   "metadata": {
    "collapsed": true
   },
   "outputs": [],
   "source": [
    "week = df['Day of the Week']"
   ]
  },
  {
   "cell_type": "code",
   "execution_count": 16,
   "metadata": {},
   "outputs": [
    {
     "name": "stdout",
     "output_type": "stream",
     "text": [
      "['Mon' 'Sat' 'Fri' 'Wed' 'Sun' 'Thu' 'Tue']\n"
     ]
    }
   ],
   "source": [
    "week_uni = week.unique()\n",
    "print(week.unique())"
   ]
  },
  {
   "cell_type": "code",
   "execution_count": 36,
   "metadata": {},
   "outputs": [
    {
     "name": "stdout",
     "output_type": "stream",
     "text": [
      "Fri    267\n",
      "Thu    237\n",
      "Tue    235\n",
      "Sat    224\n",
      "Wed    216\n",
      "Sun    201\n",
      "Mon    200\n",
      "Name: Day of the Week, dtype: int64\n"
     ]
    }
   ],
   "source": [
    "a = pd.value_counts(week)\n",
    "print(a)"
   ]
  },
  {
   "cell_type": "code",
   "execution_count": 18,
   "metadata": {
    "collapsed": true
   },
   "outputs": [],
   "source": [
    "import matplotlib.pyplot as plt"
   ]
  },
  {
   "cell_type": "code",
   "execution_count": 37,
   "metadata": {},
   "outputs": [
    {
     "data": {
      "image/png": "[encoded data removed]",
      "text/plain": [
       "<matplotlib.figure.Figure at 0x2971c051ef0>"
      ]
     },
     "metadata": {},
     "output_type": "display_data"
    }
   ],
   "source": [
    "y_pos = np.arange(len(week_uni))\n",
    "fig = plt.figure(figsize=(4,4))\n",
    "plt.bar(y_pos,a,align='center', alpha=0.5)\n",
    "plt.xticks(y_pos, ['MON','TUE','WED','THR','FRI','SAT','SUN'])\n",
    "plt.ylabel('times')\n",
    "plt.title('week')\n",
    "plt.savefig('police.png')\n",
    "plt.show()"
   ]
  },
  {
   "cell_type": "code",
   "execution_count": 21,
   "metadata": {},
   "outputs": [
    {
     "name": "stdout",
     "output_type": "stream",
     "text": [
      "0       03/18/2019 11:51:00 AM\n",
      "1       03/18/2019 07:41:00 AM\n",
      "2       03/18/2019 01:24:00 AM\n",
      "3       03/16/2019 01:08:00 AM\n",
      "4       03/15/2019 04:44:00 PM\n",
      "5       03/13/2019 11:44:00 PM\n",
      "6       03/13/2019 07:41:00 AM\n",
      "7       03/11/2019 12:33:00 PM\n",
      "8       03/10/2019 01:59:00 AM\n",
      "9       03/08/2019 11:40:00 PM\n",
      "10      03/04/2019 09:46:00 AM\n",
      "11      03/03/2019 01:43:00 AM\n",
      "12      02/28/2019 11:06:00 PM\n",
      "13      02/28/2019 06:29:00 PM\n",
      "14      02/27/2019 09:28:00 AM\n",
      "15      02/27/2019 01:36:00 AM\n",
      "16      02/26/2019 05:48:00 PM\n",
      "17      02/25/2019 06:40:00 PM\n",
      "18      02/25/2019 04:30:00 PM\n",
      "19      02/25/2019 04:30:00 PM\n",
      "20      02/25/2019 04:13:00 PM\n",
      "21      02/24/2019 05:18:00 AM\n",
      "22      02/23/2019 12:19:00 AM\n",
      "23      02/21/2019 03:59:00 PM\n",
      "24      02/21/2019 01:52:00 PM\n",
      "25      02/21/2019 11:36:00 AM\n",
      "26      02/21/2019 10:07:00 AM\n",
      "27      02/19/2019 08:51:00 PM\n",
      "28      02/19/2019 01:40:00 PM\n",
      "29      02/18/2019 10:00:00 AM\n",
      "                 ...          \n",
      "1550    10/12/2016 11:27:00 PM\n",
      "1551    10/11/2016 09:49:00 AM\n",
      "1552    10/11/2016 09:37:00 AM\n",
      "1553    10/11/2016 09:32:00 AM\n",
      "1554    10/11/2016 04:15:00 AM\n",
      "1555    10/10/2016 11:30:00 PM\n",
      "1556    10/10/2016 09:24:00 AM\n",
      "1557    10/09/2016 11:38:00 PM\n",
      "1558    10/09/2016 11:33:00 PM\n",
      "1559    10/09/2016 09:26:00 PM\n",
      "1560    10/09/2016 06:12:00 PM\n",
      "1561    10/09/2016 06:12:00 PM\n",
      "1562    10/07/2016 08:14:00 PM\n",
      "1563    10/07/2016 09:07:00 AM\n",
      "1564    10/07/2016 08:58:00 AM\n",
      "1565    10/06/2016 03:43:00 AM\n",
      "1566    10/05/2016 11:30:00 PM\n",
      "1567    10/05/2016 11:08:00 PM\n",
      "1568    10/05/2016 10:12:00 PM\n",
      "1569    10/05/2016 10:00:00 PM\n",
      "1570    10/05/2016 04:53:00 AM\n",
      "1571    10/04/2016 08:21:00 PM\n",
      "1572    10/03/2016 01:25:00 AM\n",
      "1573    10/03/2016 01:25:00 AM\n",
      "1574    10/03/2016 01:25:00 AM\n",
      "1575    10/03/2016 01:25:00 AM\n",
      "1576    10/02/2016 10:00:00 PM\n",
      "1577    10/02/2016 10:00:00 PM\n",
      "1578    10/01/2016 06:43:00 PM\n",
      "1579    10/01/2016 06:43:00 PM\n",
      "Name: Field Contact Date, Length: 1580, dtype: object\n"
     ]
    }
   ],
   "source": [
    "time = df['Field Contact Date']\n",
    "#time = str(time)\n",
    "print(time)"
   ]
  },
  {
   "cell_type": "code",
   "execution_count": 22,
   "metadata": {
    "collapsed": true
   },
   "outputs": [],
   "source": [
    "x = time[4].split(' ')"
   ]
  },
  {
   "cell_type": "code",
   "execution_count": 23,
   "metadata": {},
   "outputs": [
    {
     "name": "stdout",
     "output_type": "stream",
     "text": [
      "['03/15/2019', '04:44:00', 'PM']\n",
      "16\n"
     ]
    }
   ],
   "source": [
    "print(x)\n",
    "if x[2]=='PM':\n",
    "    y = int(x[1].split(':')[0])+12\n",
    "print(y)\n"
   ]
  },
  {
   "cell_type": "code",
   "execution_count": 24,
   "metadata": {
    "collapsed": true
   },
   "outputs": [],
   "source": [
    "def get_time(x):\n",
    "    xx = x.split(' ')\n",
    "    if xx[2] =='PM':\n",
    "        hour = int(xx[1].split(':')[0])+12\n",
    "    else:\n",
    "        hour = int(xx[1].split(':')[0])\n",
    "    return hour\n",
    "    "
   ]
  },
  {
   "cell_type": "code",
   "execution_count": 25,
   "metadata": {
    "collapsed": true
   },
   "outputs": [],
   "source": [
    "df['hour'] = time.apply(get_time)"
   ]
  },
  {
   "cell_type": "code",
   "execution_count": 26,
   "metadata": {},
   "outputs": [
    {
     "name": "stdout",
     "output_type": "stream",
     "text": [
      "   index Day of the Week      Field Contact Date Street Number      City  hour\n",
      "0      0             Mon  03/18/2019 11:51:00 AM          1100  EVANSTON    11\n",
      "1      1             Mon  03/18/2019 07:41:00 AM          1600  EVANSTON     7\n",
      "2      2             Mon  03/18/2019 01:24:00 AM           100  EVANSTON     1\n",
      "3      6             Sat  03/16/2019 01:08:00 AM          1700  EVANSTON     1\n",
      "4      7             Fri  03/15/2019 04:44:00 PM          1300  EVANSTON    16\n"
     ]
    }
   ],
   "source": [
    "print(df.head(5))"
   ]
  },
  {
   "cell_type": "code",
   "execution_count": 27,
   "metadata": {},
   "outputs": [
    {
     "name": "stdout",
     "output_type": "stream",
     "text": [
      "[11  7  1 16 23 24  9 18 17  5 12 15 13 10 20 19  8  2  4 21 22 14  3  6]\n"
     ]
    }
   ],
   "source": [
    "hour = df['hour']\n",
    "print(hour.unique())"
   ]
  },
  {
   "cell_type": "code",
   "execution_count": 28,
   "metadata": {
    "collapsed": true
   },
   "outputs": [],
   "source": [
    "total_time = np.zeros(8)\n",
    "def compare_n(x):\n",
    "    for i in range(8):\n",
    "        if i*3 <= x < (i+1)*3:\n",
    "            total_time[i]+=1\n",
    "    return total_time\n",
    "\n",
    "to_time = hour.apply(compare_n)"
   ]
  },
  {
   "cell_type": "code",
   "execution_count": 29,
   "metadata": {},
   "outputs": [
    {
     "name": "stdout",
     "output_type": "stream",
     "text": [
      "[195.  86.  48.  76. 180. 274. 373. 318.]\n"
     ]
    }
   ],
   "source": [
    "print(to_time[0])"
   ]
  },
  {
   "cell_type": "code",
   "execution_count": 31,
   "metadata": {},
   "outputs": [
    {
     "data": {
      "image/png": "[encoded data removed]",
      "text/plain": [
       "<matplotlib.figure.Figure at 0x2971be1e940>"
      ]
     },
     "metadata": {},
     "output_type": "display_data"
    }
   ],
   "source": [
    "b = ['0-3','3-6','6-9','9-12','12-15','15-18','18-21','21-0']\n",
    "y_pos = np.arange(len(b))\n",
    "fig = plt.figure(figsize=(5,4))\n",
    "plt.bar(y_pos,to_time[0],align='center', alpha=0.5)\n",
    "plt.xticks(y_pos, b)\n",
    "plt.ylabel('tims')\n",
    "plt.title('time')\n",
    "plt.savefig('police_time')\n",
    "plt.show()"
   ]
  },
  {
   "cell_type": "code",
   "execution_count": 34,
   "metadata": {},
   "outputs": [
    {
     "data": {
      "text/plain": [
       "array([<matplotlib.axes._subplots.AxesSubplot object at 0x0000029719D88F60>],\n",
       "      dtype=object)"
      ]
     },
     "execution_count": 34,
     "metadata": {},
     "output_type": "execute_result"
    }
   ],
   "source": [
    "import matplotlib.pyplot as plt\n",
    "import pandas as pd\n",
    "import numpy as np\n",
    "\n",
    "df1 = pd.DataFrame({\n",
    "    'data1': np.random.randn(10),\n",
    "    'data2': np.random.randn(10)\n",
    "})\n",
    "\n",
    "df2 = df1.copy()\n",
    "\n",
    "fig, ax = plt.subplots()\n",
    "df1.hist(column=['data1'], ax=ax)\n",
    "df2.hist(column=['data2'], ax=ax)"
   ]
  },
  {
   "cell_type": "code",
   "execution_count": 35,
   "metadata": {},
   "outputs": [
    {
     "data": {
      "image/png": "[encoded data removed]",
      "text/plain": [
       "<matplotlib.figure.Figure at 0x2971bf7ca58>"
      ]
     },
     "metadata": {},
     "output_type": "display_data"
    }
   ],
   "source": [
    "plt.show()"
   ]
  },
  {
   "cell_type": "code",
   "execution_count": null,
   "metadata": {
    "collapsed": true
   },
   "outputs": [],
   "source": []
  }
 ],
 "metadata": {
  "kernelspec": {
   "display_name": "Python 3",
   "language": "python",
   "name": "python3"
  },
  "language_info": {
   "codemirror_mode": {
    "name": "ipython",
    "version": 3
   },
   "file_extension": ".py",
   "mimetype": "text/x-python",
   "name": "python",
   "nbconvert_exporter": "python",
   "pygments_lexer": "ipython3",
   "version": "3.5.3"
  }
 },
 "nbformat": 4,
 "nbformat_minor": 2
}
