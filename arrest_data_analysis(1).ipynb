{
 "cells": [
  {
   "cell_type": "code",
   "execution_count": 2,
   "metadata": {
    "collapsed": true
   },
   "outputs": [],
   "source": [
    "import pandas as pd\n",
    "import numpy as np"
   ]
  },
  {
   "cell_type": "code",
   "execution_count": 3,
   "metadata": {
    "collapsed": true
   },
   "outputs": [],
   "source": [
    "data = pd.read_csv('Evanston_Arrests.csv')"
   ]
  },
  {
   "cell_type": "code",
   "execution_count": 4,
   "metadata": {},
   "outputs": [
    {
     "name": "stdout",
     "output_type": "stream",
     "text": [
      "   Arrest Key  Relates Incident Number Day of the Week  \\\n",
      "0       37058                 18008504             Mon   \n",
      "1       48341                 18000033             Tue   \n",
      "2       48343                 18000040             Wed   \n",
      "3       48345                 18000055             Wed   \n",
      "4       48348                 18000104             Fri   \n",
      "\n",
      "              Arrest Date  Arrest Time  Age     Sex   Race     Ethnicity  \\\n",
      "0  08/28/2017 12:00:00 AM          825   50  Female  Black  Not Hispanic   \n",
      "1  01/02/2018 12:00:00 AM         1900   17    Male  White           NaN   \n",
      "2  01/03/2018 12:00:00 AM         1214   42    Male  Black           NaN   \n",
      "3  01/03/2018 12:00:00 AM         1844   31  Female  Black           NaN   \n",
      "4  01/05/2018 12:00:00 AM         1008   19    Male  White  Not Hispanic   \n",
      "\n",
      "          Arrest Type                 Weapon Code  Street Number Street Name  \\\n",
      "0  Taken into Custody                        None         1900.0   DARROW AV   \n",
      "1  Taken into Custody                        None         1500.0  ELMWOOD AV   \n",
      "2             On View                         NaN         1900.0    MAPLE AV   \n",
      "3  Taken into Custody  Personal (Hands/Fist/Feet)          400.0    RIDGE AV   \n",
      "4                 NaN                        None         1400.0  HARTREY AV   \n",
      "\n",
      "       City                                  Location  \n",
      "0  EVANSTON  (42.052982334727446, -87.69734651386223)  \n",
      "1  EVANSTON    (42.0460107307921, -87.68378492477495)  \n",
      "2  EVANSTON   (42.05301942527244, -87.68471901579495)  \n",
      "3  EVANSTON  (42.025837474313164, -87.68535997696793)  \n",
      "4  EVANSTON   (42.04338911487455, -87.70375540569039)  \n"
     ]
    }
   ],
   "source": [
    "print(data.head(5))"
   ]
  },
  {
   "cell_type": "code",
   "execution_count": 5,
   "metadata": {
    "collapsed": true
   },
   "outputs": [],
   "source": [
    "\n",
    "df = pd.DataFrame(data,columns = ['Arrest Key','Relates Incident Number','Day of the Week','Arrest Date','Arrest Time','Age','Sex','Race','Ethnicity',\n",
    "                                  'Arrest Type','Weapon Code','Street Number','Street Name','City','Location'])"
   ]
  },
  {
   "cell_type": "code",
   "execution_count": 6,
   "metadata": {},
   "outputs": [
    {
     "name": "stdout",
     "output_type": "stream",
     "text": [
      "   Arrest Key  Relates Incident Number Day of the Week  \\\n",
      "0       37058                 18008504             Mon   \n",
      "1       48341                 18000033             Tue   \n",
      "2       48343                 18000040             Wed   \n",
      "3       48345                 18000055             Wed   \n",
      "4       48348                 18000104             Fri   \n",
      "\n",
      "              Arrest Date  Arrest Time  Age     Sex   Race     Ethnicity  \\\n",
      "0  08/28/2017 12:00:00 AM          825   50  Female  Black  Not Hispanic   \n",
      "1  01/02/2018 12:00:00 AM         1900   17    Male  White           NaN   \n",
      "2  01/03/2018 12:00:00 AM         1214   42    Male  Black           NaN   \n",
      "3  01/03/2018 12:00:00 AM         1844   31  Female  Black           NaN   \n",
      "4  01/05/2018 12:00:00 AM         1008   19    Male  White  Not Hispanic   \n",
      "\n",
      "          Arrest Type                 Weapon Code  Street Number Street Name  \\\n",
      "0  Taken into Custody                        None         1900.0   DARROW AV   \n",
      "1  Taken into Custody                        None         1500.0  ELMWOOD AV   \n",
      "2             On View                         NaN         1900.0    MAPLE AV   \n",
      "3  Taken into Custody  Personal (Hands/Fist/Feet)          400.0    RIDGE AV   \n",
      "4                 NaN                        None         1400.0  HARTREY AV   \n",
      "\n",
      "       City                                  Location  \n",
      "0  EVANSTON  (42.052982334727446, -87.69734651386223)  \n",
      "1  EVANSTON    (42.0460107307921, -87.68378492477495)  \n",
      "2  EVANSTON   (42.05301942527244, -87.68471901579495)  \n",
      "3  EVANSTON  (42.025837474313164, -87.68535997696793)  \n",
      "4  EVANSTON   (42.04338911487455, -87.70375540569039)  \n"
     ]
    }
   ],
   "source": [
    "print(df[:5])"
   ]
  },
  {
   "cell_type": "code",
   "execution_count": 7,
   "metadata": {
    "collapsed": true
   },
   "outputs": [],
   "source": [
    "City = df['City']"
   ]
  },
  {
   "cell_type": "code",
   "execution_count": 8,
   "metadata": {},
   "outputs": [
    {
     "name": "stdout",
     "output_type": "stream",
     "text": [
      "623\n"
     ]
    }
   ],
   "source": [
    "print(len(City))"
   ]
  },
  {
   "cell_type": "code",
   "execution_count": 9,
   "metadata": {
    "collapsed": true
   },
   "outputs": [],
   "source": [
    "index_not_Evan = [i for i in range(len(City)) if City[i] != 'EVANSTON'] "
   ]
  },
  {
   "cell_type": "code",
   "execution_count": 10,
   "metadata": {},
   "outputs": [
    {
     "name": "stdout",
     "output_type": "stream",
     "text": [
      "[11, 14, 28, 32, 40, 49, 54, 64, 79, 80, 82, 88, 102, 103, 104, 111, 120, 139, 159, 161, 170, 178, 189, 216, 219, 220, 228, 234, 246, 252, 257, 261, 265, 266, 281, 283, 287, 297, 298, 299, 313, 344, 349, 354, 358, 369, 373, 388, 389, 392, 394, 418, 430, 431, 433, 447, 461, 483, 489, 490, 499, 505, 506, 508, 509, 510, 520, 536, 543, 545, 551, 561, 564, 589, 590, 592, 605, 613, 622]\n"
     ]
    }
   ],
   "source": [
    "print(index_not_Evan)"
   ]
  },
  {
   "cell_type": "code",
   "execution_count": 11,
   "metadata": {
    "collapsed": true
   },
   "outputs": [],
   "source": [
    "df = df.drop(index_not_Evan)"
   ]
  },
  {
   "cell_type": "code",
   "execution_count": 12,
   "metadata": {},
   "outputs": [
    {
     "name": "stdout",
     "output_type": "stream",
     "text": [
      "544\n"
     ]
    }
   ],
   "source": [
    "print(len(df))"
   ]
  },
  {
   "cell_type": "code",
   "execution_count": 13,
   "metadata": {
    "collapsed": true
   },
   "outputs": [],
   "source": [
    "Location = df['Location']"
   ]
  },
  {
   "cell_type": "code",
   "execution_count": 14,
   "metadata": {},
   "outputs": [
    {
     "name": "stdout",
     "output_type": "stream",
     "text": [
      "0      False\n",
      "1      False\n",
      "2      False\n",
      "3      False\n",
      "4      False\n",
      "5      False\n",
      "6      False\n",
      "7      False\n",
      "8      False\n",
      "9      False\n",
      "10     False\n",
      "12     False\n",
      "13     False\n",
      "15     False\n",
      "16     False\n",
      "17     False\n",
      "18     False\n",
      "19     False\n",
      "20     False\n",
      "21     False\n",
      "22     False\n",
      "23     False\n",
      "24     False\n",
      "25     False\n",
      "26     False\n",
      "27     False\n",
      "29     False\n",
      "30     False\n",
      "31     False\n",
      "33     False\n",
      "       ...  \n",
      "587    False\n",
      "588    False\n",
      "591    False\n",
      "593    False\n",
      "594    False\n",
      "595    False\n",
      "596    False\n",
      "597    False\n",
      "598    False\n",
      "599    False\n",
      "600    False\n",
      "601    False\n",
      "602    False\n",
      "603    False\n",
      "604    False\n",
      "606    False\n",
      "607    False\n",
      "608    False\n",
      "609    False\n",
      "610    False\n",
      "611    False\n",
      "612    False\n",
      "614    False\n",
      "615    False\n",
      "616    False\n",
      "617    False\n",
      "618    False\n",
      "619    False\n",
      "620    False\n",
      "621    False\n",
      "Name: Location, Length: 544, dtype: bool\n"
     ]
    }
   ],
   "source": [
    "a = Location.isnull()\n",
    "print(a)"
   ]
  },
  {
   "cell_type": "code",
   "execution_count": 64,
   "metadata": {
    "collapsed": true
   },
   "outputs": [],
   "source": [
    "week = df['Day of the Week']"
   ]
  },
  {
   "cell_type": "code",
   "execution_count": 65,
   "metadata": {},
   "outputs": [
    {
     "name": "stdout",
     "output_type": "stream",
     "text": [
      "['Mon' 'Tue' 'Wed' 'Fri' 'Sun' 'Thu' 'Sat']\n"
     ]
    }
   ],
   "source": [
    "week_uni = week.unique()\n",
    "print(week.unique())\n"
   ]
  },
  {
   "cell_type": "code",
   "execution_count": 127,
   "metadata": {},
   "outputs": [
    {
     "name": "stdout",
     "output_type": "stream",
     "text": [
      "Mon    97\n",
      "Fri    96\n",
      "Wed    81\n",
      "Thu    79\n",
      "Tue    73\n",
      "Sat    63\n",
      "Sun    55\n",
      "Name: Day of the Week, dtype: int64\n"
     ]
    }
   ],
   "source": [
    "### the week \n",
    "### it is not the weekends but the weekdays \n",
    "a = pd.value_counts(week)\n",
    "print(a)"
   ]
  },
  {
   "cell_type": "code",
   "execution_count": 74,
   "metadata": {
    "collapsed": true
   },
   "outputs": [],
   "source": [
    "import matplotlib.pyplot as plt"
   ]
  },
  {
   "cell_type": "code",
   "execution_count": 82,
   "metadata": {},
   "outputs": [
    {
     "data": {
      "text/plain": [
       "<matplotlib.figure.Figure at 0x1de00e61550>"
      ]
     },
     "metadata": {},
     "output_type": "display_data"
    },
    {
     "data": {
      "image/png": "[encoded data removed]",
      "text/plain": [
       "<matplotlib.figure.Figure at 0x1de00ef5a20>"
      ]
     },
     "metadata": {},
     "output_type": "display_data"
    }
   ],
   "source": [
    "c = ['MON','TUE','WED','THU','RFI','SAT','SUN']\n",
    "y_pos = np.arange(len(week_uni))\n",
    "fig = plt.figure(figsize=(4,4))\n",
    "plt.bar(y_pos,a,align='center', alpha=0.5)\n",
    "plt.xticks(y_pos, c)\n",
    "plt.ylabel('times')\n",
    "plt.title('week')\n",
    "plt.savefig('week.png')\n",
    "plt.show()"
   ]
  },
  {
   "cell_type": "code",
   "execution_count": 81,
   "metadata": {},
   "outputs": [],
   "source": [
    "plt.savefig('week.png')"
   ]
  },
  {
   "cell_type": "code",
   "execution_count": 20,
   "metadata": {
    "collapsed": true
   },
   "outputs": [],
   "source": [
    "Time = df['Arrest Time']"
   ]
  },
  {
   "cell_type": "code",
   "execution_count": 21,
   "metadata": {},
   "outputs": [
    {
     "name": "stdout",
     "output_type": "stream",
     "text": [
      "544\n"
     ]
    }
   ],
   "source": [
    "print(len(Time))"
   ]
  },
  {
   "cell_type": "code",
   "execution_count": 22,
   "metadata": {
    "collapsed": true
   },
   "outputs": [],
   "source": [
    "#df['Arrest Time']= map(lambda x: x.zfill(4),df['Arrest Time'])\n",
    "df['Arrest Time']=df['Arrest Time'].apply(lambda x: '{0:0>4}'.format(x))"
   ]
  },
  {
   "cell_type": "code",
   "execution_count": 23,
   "metadata": {},
   "outputs": [
    {
     "name": "stdout",
     "output_type": "stream",
     "text": [
      "0      0825\n",
      "1      1900\n",
      "2      1214\n",
      "3      1844\n",
      "4      1008\n",
      "5      0438\n",
      "6      0422\n",
      "7      2200\n",
      "8      1946\n",
      "9      1638\n",
      "10     2057\n",
      "12     2022\n",
      "13     0100\n",
      "15     2008\n",
      "16     1610\n",
      "17     1038\n",
      "18     1325\n",
      "19     0045\n",
      "20     0834\n",
      "21     1029\n",
      "22     1619\n",
      "23     0116\n",
      "24     0530\n",
      "25     0006\n",
      "26     0116\n",
      "27     0800\n",
      "29     2340\n",
      "30     1438\n",
      "31     1349\n",
      "33     0222\n",
      "       ... \n",
      "587    1615\n",
      "588    1000\n",
      "591    1300\n",
      "593    1620\n",
      "594    1933\n",
      "595    2028\n",
      "596    2100\n",
      "597    0102\n",
      "598    2149\n",
      "599    0207\n",
      "600    1245\n",
      "601    1620\n",
      "602    1518\n",
      "603    1539\n",
      "604    1550\n",
      "606    1057\n",
      "607    1443\n",
      "608    2112\n",
      "609    0134\n",
      "610    0134\n",
      "611    0134\n",
      "612    1740\n",
      "614    1410\n",
      "615    1919\n",
      "616    1557\n",
      "617    1557\n",
      "618    1149\n",
      "619    1117\n",
      "620    1600\n",
      "621    0920\n",
      "Name: Arrest Time, Length: 544, dtype: object\n"
     ]
    }
   ],
   "source": [
    "print(df['Arrest Time'])"
   ]
  },
  {
   "cell_type": "code",
   "execution_count": 24,
   "metadata": {
    "collapsed": true
   },
   "outputs": [],
   "source": [
    "# get the clock of the day \n",
    "df['time'] = df['Arrest Time']"
   ]
  },
  {
   "cell_type": "code",
   "execution_count": 25,
   "metadata": {},
   "outputs": [
    {
     "name": "stdout",
     "output_type": "stream",
     "text": [
      "   Arrest Key  Relates Incident Number Day of the Week  \\\n",
      "0       37058                 18008504             Mon   \n",
      "1       48341                 18000033             Tue   \n",
      "2       48343                 18000040             Wed   \n",
      "3       48345                 18000055             Wed   \n",
      "4       48348                 18000104             Fri   \n",
      "\n",
      "              Arrest Date Arrest Time  Age     Sex   Race     Ethnicity  \\\n",
      "0  08/28/2017 12:00:00 AM        0825   50  Female  Black  Not Hispanic   \n",
      "1  01/02/2018 12:00:00 AM        1900   17    Male  White           NaN   \n",
      "2  01/03/2018 12:00:00 AM        1214   42    Male  Black           NaN   \n",
      "3  01/03/2018 12:00:00 AM        1844   31  Female  Black           NaN   \n",
      "4  01/05/2018 12:00:00 AM        1008   19    Male  White  Not Hispanic   \n",
      "\n",
      "          Arrest Type                 Weapon Code  Street Number Street Name  \\\n",
      "0  Taken into Custody                        None         1900.0   DARROW AV   \n",
      "1  Taken into Custody                        None         1500.0  ELMWOOD AV   \n",
      "2             On View                         NaN         1900.0    MAPLE AV   \n",
      "3  Taken into Custody  Personal (Hands/Fist/Feet)          400.0    RIDGE AV   \n",
      "4                 NaN                        None         1400.0  HARTREY AV   \n",
      "\n",
      "       City                                  Location  time  \n",
      "0  EVANSTON  (42.052982334727446, -87.69734651386223)  0825  \n",
      "1  EVANSTON    (42.0460107307921, -87.68378492477495)  1900  \n",
      "2  EVANSTON   (42.05301942527244, -87.68471901579495)  1214  \n",
      "3  EVANSTON  (42.025837474313164, -87.68535997696793)  1844  \n",
      "4  EVANSTON   (42.04338911487455, -87.70375540569039)  1008  \n"
     ]
    }
   ],
   "source": [
    "print(df.head(5))"
   ]
  },
  {
   "cell_type": "code",
   "execution_count": 26,
   "metadata": {
    "collapsed": true
   },
   "outputs": [],
   "source": [
    "def get_time(x):\n",
    "    x = str(x)\n",
    "    x = x[:2]\n",
    "    x = int(x)\n",
    "    return x\n",
    "    "
   ]
  },
  {
   "cell_type": "code",
   "execution_count": 27,
   "metadata": {
    "collapsed": true
   },
   "outputs": [],
   "source": [
    "df['time'] = df['time'].apply(get_time)"
   ]
  },
  {
   "cell_type": "code",
   "execution_count": 28,
   "metadata": {},
   "outputs": [
    {
     "name": "stdout",
     "output_type": "stream",
     "text": [
      "   Arrest Key  Relates Incident Number Day of the Week  \\\n",
      "0       37058                 18008504             Mon   \n",
      "1       48341                 18000033             Tue   \n",
      "2       48343                 18000040             Wed   \n",
      "3       48345                 18000055             Wed   \n",
      "4       48348                 18000104             Fri   \n",
      "\n",
      "              Arrest Date Arrest Time  Age     Sex   Race     Ethnicity  \\\n",
      "0  08/28/2017 12:00:00 AM        0825   50  Female  Black  Not Hispanic   \n",
      "1  01/02/2018 12:00:00 AM        1900   17    Male  White           NaN   \n",
      "2  01/03/2018 12:00:00 AM        1214   42    Male  Black           NaN   \n",
      "3  01/03/2018 12:00:00 AM        1844   31  Female  Black           NaN   \n",
      "4  01/05/2018 12:00:00 AM        1008   19    Male  White  Not Hispanic   \n",
      "\n",
      "          Arrest Type                 Weapon Code  Street Number Street Name  \\\n",
      "0  Taken into Custody                        None         1900.0   DARROW AV   \n",
      "1  Taken into Custody                        None         1500.0  ELMWOOD AV   \n",
      "2             On View                         NaN         1900.0    MAPLE AV   \n",
      "3  Taken into Custody  Personal (Hands/Fist/Feet)          400.0    RIDGE AV   \n",
      "4                 NaN                        None         1400.0  HARTREY AV   \n",
      "\n",
      "       City                                  Location  time  \n",
      "0  EVANSTON  (42.052982334727446, -87.69734651386223)     8  \n",
      "1  EVANSTON    (42.0460107307921, -87.68378492477495)    19  \n",
      "2  EVANSTON   (42.05301942527244, -87.68471901579495)    12  \n",
      "3  EVANSTON  (42.025837474313164, -87.68535997696793)    18  \n",
      "4  EVANSTON   (42.04338911487455, -87.70375540569039)    10  \n"
     ]
    }
   ],
   "source": [
    "print(df[:5])"
   ]
  },
  {
   "cell_type": "code",
   "execution_count": 29,
   "metadata": {
    "collapsed": true
   },
   "outputs": [],
   "source": [
    "total_time = np.zeros(8)\n",
    "def compare_n(x):\n",
    "    for i in range(8):\n",
    "        if i*3 <= x < (i+1)*3:\n",
    "            total_time[i]+=1\n",
    "    return total_time\n",
    "            \n",
    "            "
   ]
  },
  {
   "cell_type": "code",
   "execution_count": 30,
   "metadata": {
    "collapsed": true
   },
   "outputs": [],
   "source": [
    "to_time = df['time'].apply(compare_n)"
   ]
  },
  {
   "cell_type": "code",
   "execution_count": 31,
   "metadata": {},
   "outputs": [
    {
     "name": "stdout",
     "output_type": "stream",
     "text": [
      "0      [73.0, 33.0, 32.0, 64.0, 63.0, 110.0, 92.0, 77.0]\n",
      "1      [73.0, 33.0, 32.0, 64.0, 63.0, 110.0, 92.0, 77.0]\n",
      "2      [73.0, 33.0, 32.0, 64.0, 63.0, 110.0, 92.0, 77.0]\n",
      "3      [73.0, 33.0, 32.0, 64.0, 63.0, 110.0, 92.0, 77.0]\n",
      "4      [73.0, 33.0, 32.0, 64.0, 63.0, 110.0, 92.0, 77.0]\n",
      "5      [73.0, 33.0, 32.0, 64.0, 63.0, 110.0, 92.0, 77.0]\n",
      "6      [73.0, 33.0, 32.0, 64.0, 63.0, 110.0, 92.0, 77.0]\n",
      "7      [73.0, 33.0, 32.0, 64.0, 63.0, 110.0, 92.0, 77.0]\n",
      "8      [73.0, 33.0, 32.0, 64.0, 63.0, 110.0, 92.0, 77.0]\n",
      "9      [73.0, 33.0, 32.0, 64.0, 63.0, 110.0, 92.0, 77.0]\n",
      "10     [73.0, 33.0, 32.0, 64.0, 63.0, 110.0, 92.0, 77.0]\n",
      "12     [73.0, 33.0, 32.0, 64.0, 63.0, 110.0, 92.0, 77.0]\n",
      "13     [73.0, 33.0, 32.0, 64.0, 63.0, 110.0, 92.0, 77.0]\n",
      "15     [73.0, 33.0, 32.0, 64.0, 63.0, 110.0, 92.0, 77.0]\n",
      "16     [73.0, 33.0, 32.0, 64.0, 63.0, 110.0, 92.0, 77.0]\n",
      "17     [73.0, 33.0, 32.0, 64.0, 63.0, 110.0, 92.0, 77.0]\n",
      "18     [73.0, 33.0, 32.0, 64.0, 63.0, 110.0, 92.0, 77.0]\n",
      "19     [73.0, 33.0, 32.0, 64.0, 63.0, 110.0, 92.0, 77.0]\n",
      "20     [73.0, 33.0, 32.0, 64.0, 63.0, 110.0, 92.0, 77.0]\n",
      "21     [73.0, 33.0, 32.0, 64.0, 63.0, 110.0, 92.0, 77.0]\n",
      "22     [73.0, 33.0, 32.0, 64.0, 63.0, 110.0, 92.0, 77.0]\n",
      "23     [73.0, 33.0, 32.0, 64.0, 63.0, 110.0, 92.0, 77.0]\n",
      "24     [73.0, 33.0, 32.0, 64.0, 63.0, 110.0, 92.0, 77.0]\n",
      "25     [73.0, 33.0, 32.0, 64.0, 63.0, 110.0, 92.0, 77.0]\n",
      "26     [73.0, 33.0, 32.0, 64.0, 63.0, 110.0, 92.0, 77.0]\n",
      "27     [73.0, 33.0, 32.0, 64.0, 63.0, 110.0, 92.0, 77.0]\n",
      "29     [73.0, 33.0, 32.0, 64.0, 63.0, 110.0, 92.0, 77.0]\n",
      "30     [73.0, 33.0, 32.0, 64.0, 63.0, 110.0, 92.0, 77.0]\n",
      "31     [73.0, 33.0, 32.0, 64.0, 63.0, 110.0, 92.0, 77.0]\n",
      "33     [73.0, 33.0, 32.0, 64.0, 63.0, 110.0, 92.0, 77.0]\n",
      "                             ...                        \n",
      "587    [73.0, 33.0, 32.0, 64.0, 63.0, 110.0, 92.0, 77.0]\n",
      "588    [73.0, 33.0, 32.0, 64.0, 63.0, 110.0, 92.0, 77.0]\n",
      "591    [73.0, 33.0, 32.0, 64.0, 63.0, 110.0, 92.0, 77.0]\n",
      "593    [73.0, 33.0, 32.0, 64.0, 63.0, 110.0, 92.0, 77.0]\n",
      "594    [73.0, 33.0, 32.0, 64.0, 63.0, 110.0, 92.0, 77.0]\n",
      "595    [73.0, 33.0, 32.0, 64.0, 63.0, 110.0, 92.0, 77.0]\n",
      "596    [73.0, 33.0, 32.0, 64.0, 63.0, 110.0, 92.0, 77.0]\n",
      "597    [73.0, 33.0, 32.0, 64.0, 63.0, 110.0, 92.0, 77.0]\n",
      "598    [73.0, 33.0, 32.0, 64.0, 63.0, 110.0, 92.0, 77.0]\n",
      "599    [73.0, 33.0, 32.0, 64.0, 63.0, 110.0, 92.0, 77.0]\n",
      "600    [73.0, 33.0, 32.0, 64.0, 63.0, 110.0, 92.0, 77.0]\n",
      "601    [73.0, 33.0, 32.0, 64.0, 63.0, 110.0, 92.0, 77.0]\n",
      "602    [73.0, 33.0, 32.0, 64.0, 63.0, 110.0, 92.0, 77.0]\n",
      "603    [73.0, 33.0, 32.0, 64.0, 63.0, 110.0, 92.0, 77.0]\n",
      "604    [73.0, 33.0, 32.0, 64.0, 63.0, 110.0, 92.0, 77.0]\n",
      "606    [73.0, 33.0, 32.0, 64.0, 63.0, 110.0, 92.0, 77.0]\n",
      "607    [73.0, 33.0, 32.0, 64.0, 63.0, 110.0, 92.0, 77.0]\n",
      "608    [73.0, 33.0, 32.0, 64.0, 63.0, 110.0, 92.0, 77.0]\n",
      "609    [73.0, 33.0, 32.0, 64.0, 63.0, 110.0, 92.0, 77.0]\n",
      "610    [73.0, 33.0, 32.0, 64.0, 63.0, 110.0, 92.0, 77.0]\n",
      "611    [73.0, 33.0, 32.0, 64.0, 63.0, 110.0, 92.0, 77.0]\n",
      "612    [73.0, 33.0, 32.0, 64.0, 63.0, 110.0, 92.0, 77.0]\n",
      "614    [73.0, 33.0, 32.0, 64.0, 63.0, 110.0, 92.0, 77.0]\n",
      "615    [73.0, 33.0, 32.0, 64.0, 63.0, 110.0, 92.0, 77.0]\n",
      "616    [73.0, 33.0, 32.0, 64.0, 63.0, 110.0, 92.0, 77.0]\n",
      "617    [73.0, 33.0, 32.0, 64.0, 63.0, 110.0, 92.0, 77.0]\n",
      "618    [73.0, 33.0, 32.0, 64.0, 63.0, 110.0, 92.0, 77.0]\n",
      "619    [73.0, 33.0, 32.0, 64.0, 63.0, 110.0, 92.0, 77.0]\n",
      "620    [73.0, 33.0, 32.0, 64.0, 63.0, 110.0, 92.0, 77.0]\n",
      "621    [73.0, 33.0, 32.0, 64.0, 63.0, 110.0, 92.0, 77.0]\n",
      "Name: time, Length: 544, dtype: object\n"
     ]
    }
   ],
   "source": [
    "print(to_time)"
   ]
  },
  {
   "cell_type": "code",
   "execution_count": 32,
   "metadata": {},
   "outputs": [
    {
     "name": "stdout",
     "output_type": "stream",
     "text": [
      "[ 73.  33.  32.  64.  63. 110.  92.  77.]\n"
     ]
    }
   ],
   "source": [
    "print(to_time[0])"
   ]
  },
  {
   "cell_type": "code",
   "execution_count": 126,
   "metadata": {},
   "outputs": [
    {
     "data": {
      "text/plain": [
       "544"
      ]
     },
     "execution_count": 126,
     "metadata": {},
     "output_type": "execute_result"
    }
   ],
   "source": [
    "73+33+32+64+63+110+92+77"
   ]
  },
  {
   "cell_type": "code",
   "execution_count": 83,
   "metadata": {},
   "outputs": [
    {
     "data": {
      "image/png": "[encoded data removed]",
      "text/plain": [
       "<matplotlib.figure.Figure at 0x1de01fa8e80>"
      ]
     },
     "metadata": {},
     "output_type": "display_data"
    }
   ],
   "source": [
    "b = ['0-3','3-6','6-9','9-12','12-15','15-18','18-21','21-0']\n",
    "y_pos = np.arange(len(b))\n",
    "fig = plt.figure(figsize=(5,4))\n",
    "plt.bar(y_pos,to_time[0],align='center', alpha=0.5)\n",
    "plt.xticks(y_pos, b)\n",
    "plt.ylabel('times')\n",
    "plt.title('time')\n",
    "plt.savefig('time.png')\n",
    "plt.show()"
   ]
  },
  {
   "cell_type": "code",
   "execution_count": 84,
   "metadata": {
    "collapsed": true
   },
   "outputs": [],
   "source": [
    "# race \n",
    "race = df['Race']"
   ]
  },
  {
   "cell_type": "code",
   "execution_count": 85,
   "metadata": {},
   "outputs": [
    {
     "name": "stdout",
     "output_type": "stream",
     "text": [
      "Black      324\n",
      "White      206\n",
      "Asian        7\n",
      "Unknown      4\n",
      "Name: Race, dtype: int64\n"
     ]
    }
   ],
   "source": [
    "print(pd.value_counts(race))"
   ]
  },
  {
   "cell_type": "code",
   "execution_count": 86,
   "metadata": {},
   "outputs": [
    {
     "name": "stdout",
     "output_type": "stream",
     "text": [
      "Male      420\n",
      "Female    124\n",
      "Name: Sex, dtype: int64\n"
     ]
    }
   ],
   "source": [
    "# sex\n",
    "sex = df['Sex']\n",
    "print(pd.value_counts(sex))"
   ]
  },
  {
   "cell_type": "code",
   "execution_count": 89,
   "metadata": {},
   "outputs": [],
   "source": [
    "women_size = np.zeros(4)\n",
    "for i in range(len(df)):\n",
    "    if sex[i] == 'Female':\n",
    "        if race[i] == 'Black':\n",
    "            women_size[0] += 1\n",
    "        elif race[i] =='White':\n",
    "            women_size[1] += 1\n",
    "        elif race[i] == 'Asian':\n",
    "            women_size[2] += 1\n",
    "        else:\n",
    "            women_size[3] += 1\n",
    "    \n",
    "    "
   ]
  },
  {
   "cell_type": "code",
   "execution_count": 90,
   "metadata": {},
   "outputs": [
    {
     "name": "stdout",
     "output_type": "stream",
     "text": [
      "[67. 55.  2.  0.]\n"
     ]
    }
   ],
   "source": [
    "print(women_size)"
   ]
  },
  {
   "cell_type": "code",
   "execution_count": 93,
   "metadata": {
    "collapsed": true
   },
   "outputs": [],
   "source": [
    "men_size = np.zeros(4)\n",
    "for i in range(len(df)):\n",
    "    if sex[i] == 'Male':\n",
    "        if race[i] == 'Black':\n",
    "            men_size[0] += 1\n",
    "        elif race[i] =='White':\n",
    "            men_size[1] += 1\n",
    "        elif race[i] == 'Asian':\n",
    "            men_size[2] += 1\n",
    "        else:\n",
    "            men_size[3] += 1\n",
    "    "
   ]
  },
  {
   "cell_type": "code",
   "execution_count": 94,
   "metadata": {},
   "outputs": [
    {
     "name": "stdout",
     "output_type": "stream",
     "text": [
      "[257. 151.   5.   7.]\n"
     ]
    }
   ],
   "source": [
    "print(men_size)"
   ]
  },
  {
   "cell_type": "code",
   "execution_count": 103,
   "metadata": {},
   "outputs": [
    {
     "data": {
      "image/png": "[encoded data removed]",
      "text/plain": [
       "<matplotlib.figure.Figure at 0x1de00cc1240>"
      ]
     },
     "metadata": {},
     "output_type": "display_data"
    }
   ],
   "source": [
    "b = ['Black','White','Asian','Unknown']\n",
    "y_pos = np.arange(len(b))\n",
    "fig = plt.figure(figsize=(5,4))\n",
    "#plt.bar(y_pos,women_size,align='center', alpha=0.5,color='r')\n",
    "plt.bar(y_pos,men_size,align='center', alpha=0.5,color='blue')\n",
    "plt.bar(y_pos,women_size,align='center', alpha=0.5,color='r')\n",
    "plt.xticks(y_pos, b)\n",
    "#plt.ylabel('times')\n",
    "plt.title('sex and race')\n",
    "plt.legend(['male','female'])\n",
    "plt.savefig('race.png')\n",
    "plt.show()"
   ]
  },
  {
   "cell_type": "code",
   "execution_count": null,
   "metadata": {
    "collapsed": true
   },
   "outputs": [],
   "source": []
  },
  {
   "cell_type": "code",
   "execution_count": null,
   "metadata": {
    "collapsed": true
   },
   "outputs": [],
   "source": []
  },
  {
   "cell_type": "code",
   "execution_count": 105,
   "metadata": {},
   "outputs": [
    {
     "name": "stdout",
     "output_type": "stream",
     "text": [
      "None                          354\n",
      "Personal (Hands/Fist/Feet)     40\n",
      "Handgun                        21\n",
      "Knife/Cutting Instrument       15\n",
      "Blunt Objects                   7\n",
      "Other                           7\n",
      "Toy or Fake                     4\n",
      "Firearm                         3\n",
      "Motor Vehicle                   2\n",
      "Sharp Object                    2\n",
      "Fire/Incendiary Device          1\n",
      "Handtool                        1\n",
      "Unknown                         1\n",
      "Name: Weapon Code, dtype: int64\n"
     ]
    }
   ],
   "source": [
    "# weapon\n",
    "weapon = df['Weapon Code']\n",
    "print(pd.value_counts(weapon))"
   ]
  },
  {
   "cell_type": "code",
   "execution_count": 124,
   "metadata": {},
   "outputs": [
    {
     "data": {
      "image/png": "[encoded data removed]",
      "text/plain": [
       "<matplotlib.figure.Figure at 0x1de00eed550>"
      ]
     },
     "metadata": {},
     "output_type": "display_data"
    }
   ],
   "source": [
    "b = ['None','Fist','handgun','knife','blunt','other','toy','firearm','motor']\n",
    "num = [354, 40, 22, 15, 9, 8, 4, 4,2]\n",
    "y_pos = np.arange(len(b))\n",
    "fig = plt.figure(figsize=(5,4))\n",
    "plt.bar(y_pos,num,align='center', alpha=0.5)\n",
    "plt.xticks(y_pos, b)\n",
    "#plt.ylabel('times')\n",
    "plt.title('weapon')\n",
    "plt.savefig('weapon.png')\n",
    "plt.show()"
   ]
  },
  {
   "cell_type": "code",
   "execution_count": null,
   "metadata": {
    "collapsed": true
   },
   "outputs": [],
   "source": []
  },
  {
   "cell_type": "code",
   "execution_count": 113,
   "metadata": {},
   "outputs": [],
   "source": [
    "men_wp = np.zeros(2)\n",
    "for i in range(len(df)):\n",
    "    if sex[i] == 'Male':\n",
    "        if weapon[i] == 'None'or pd.isnull(weapon[i]):\n",
    "            men_wp[0] += 1\n",
    "        else:\n",
    "            men_wp[1] += 1\n",
    "    "
   ]
  },
  {
   "cell_type": "code",
   "execution_count": 116,
   "metadata": {
    "collapsed": true
   },
   "outputs": [],
   "source": [
    "women_wp = np.zeros(2)\n",
    "for i in range(len(df)):\n",
    "    if sex[i] == 'Female':\n",
    "        if weapon[i] == 'None'or pd.isnull(weapon[i]):\n",
    "            women_wp[0] += 1\n",
    "        else:\n",
    "            women_wp[1] += 1"
   ]
  },
  {
   "cell_type": "code",
   "execution_count": 117,
   "metadata": {},
   "outputs": [
    {
     "name": "stdout",
     "output_type": "stream",
     "text": [
      "[341.  79.]\n",
      "[99. 25.]\n"
     ]
    }
   ],
   "source": [
    "print(men_wp)\n",
    "print(women_wp)"
   ]
  },
  {
   "cell_type": "code",
   "execution_count": 118,
   "metadata": {},
   "outputs": [
    {
     "data": {
      "text/plain": [
       "0.2316715542521994"
      ]
     },
     "execution_count": 118,
     "metadata": {},
     "output_type": "execute_result"
    }
   ],
   "source": [
    "79/341"
   ]
  },
  {
   "cell_type": "code",
   "execution_count": 119,
   "metadata": {},
   "outputs": [
    {
     "data": {
      "text/plain": [
       "0.25252525252525254"
      ]
     },
     "execution_count": 119,
     "metadata": {},
     "output_type": "execute_result"
    }
   ],
   "source": [
    "25/99"
   ]
  },
  {
   "cell_type": "code",
   "execution_count": 125,
   "metadata": {},
   "outputs": [
    {
     "data": {
      "image/png": "[encoded data removed]",
      "text/plain": [
       "<matplotlib.figure.Figure at 0x1de01fc6da0>"
      ]
     },
     "metadata": {},
     "output_type": "display_data"
    }
   ],
   "source": [
    "b = ['no weapon','with weapon']\n",
    "y_pos = np.arange(len(b))\n",
    "fig = plt.figure(figsize=(5,4))\n",
    "#plt.bar(y_pos,women_size,align='center', alpha=0.5,color='r')\n",
    "plt.bar(y_pos,men_wp,align='center', alpha=0.5,color='blue')\n",
    "plt.bar(y_pos,women_wp,align='center', alpha=0.5,color='r')\n",
    "plt.xticks(y_pos, b)\n",
    "#plt.ylabel('times')\n",
    "plt.title('weapons vs sex')\n",
    "plt.legend(['male','female'])\n",
    "plt.savefig('weapon_sex.png')\n",
    "plt.show()"
   ]
  },
  {
   "cell_type": "code",
   "execution_count": null,
   "metadata": {
    "collapsed": true
   },
   "outputs": [],
   "source": []
  },
  {
   "cell_type": "code",
   "execution_count": null,
   "metadata": {
    "collapsed": true
   },
   "outputs": [],
   "source": []
  },
  {
   "cell_type": "code",
   "execution_count": 38,
   "metadata": {
    "collapsed": true
   },
   "outputs": [],
   "source": [
    "# age\n",
    "age = df['Age']\n"
   ]
  },
  {
   "cell_type": "code",
   "execution_count": 39,
   "metadata": {
    "collapsed": true
   },
   "outputs": [],
   "source": [
    "total_age = np.zeros(8)\n",
    "def compare_a(x):\n",
    "    for i in range(8):\n",
    "        if (i+1)*10 <= x < (i+2)*10:\n",
    "            total_age[i]+=1\n",
    "    return total_age\n",
    "            "
   ]
  },
  {
   "cell_type": "code",
   "execution_count": 40,
   "metadata": {
    "collapsed": true
   },
   "outputs": [],
   "source": [
    "to_age = age.apply(compare_a)"
   ]
  },
  {
   "cell_type": "code",
   "execution_count": 41,
   "metadata": {},
   "outputs": [
    {
     "name": "stdout",
     "output_type": "stream",
     "text": [
      "[ 69. 186. 136.  71.  52.  24.   5.   1.]\n"
     ]
    }
   ],
   "source": [
    "print(to_age[0])"
   ]
  },
  {
   "cell_type": "code",
   "execution_count": null,
   "metadata": {
    "collapsed": true
   },
   "outputs": [],
   "source": [
    "women_age = np.zeros(8)\n",
    "for i in range(len(df)):\n",
    "    if sex[i] == 'Female':\n",
    "        if weapon[i] == 'None'or pd.isnull(weapon[i]):\n",
    "            women_wp[0] += 1\n",
    "        else:\n",
    "            women_wp[1] += 1"
   ]
  },
  {
   "cell_type": "code",
   "execution_count": null,
   "metadata": {
    "collapsed": true
   },
   "outputs": [],
   "source": []
  },
  {
   "cell_type": "code",
   "execution_count": null,
   "metadata": {
    "collapsed": true
   },
   "outputs": [],
   "source": []
  },
  {
   "cell_type": "code",
   "execution_count": 128,
   "metadata": {},
   "outputs": [
    {
     "data": {
      "image/png": "[encoded data removed]",
      "text/plain": [
       "<matplotlib.figure.Figure at 0x1de00f41d30>"
      ]
     },
     "metadata": {},
     "output_type": "display_data"
    }
   ],
   "source": [
    "c = ['10-20','20-30','30-40','40-50','50-60','60-70','70-80','80-90']\n",
    "y_pos = np.arange(len(c))\n",
    "fig = plt.figure(figsize=(5,4))\n",
    "plt.bar(y_pos,to_age[0],align='center', alpha=0.5)\n",
    "plt.xticks(y_pos, c)\n",
    "plt.ylabel('times')\n",
    "plt.title('age')\n",
    "plt.savefig('age.png')\n",
    "plt.show()"
   ]
  },
  {
   "cell_type": "code",
   "execution_count": 43,
   "metadata": {
    "collapsed": true
   },
   "outputs": [],
   "source": [
    "df.reset_index(inplace=True)"
   ]
  },
  {
   "cell_type": "code",
   "execution_count": 44,
   "metadata": {},
   "outputs": [
    {
     "name": "stdout",
     "output_type": "stream",
     "text": [
      "544\n"
     ]
    }
   ],
   "source": [
    "# the location gathering\n",
    "location = df['Location']\n",
    "print(len(location))"
   ]
  },
  {
   "cell_type": "code",
   "execution_count": 45,
   "metadata": {
    "collapsed": true
   },
   "outputs": [],
   "source": [
    "loc_null = location.isnull()\n",
    "xx = []\n",
    "yy = []\n",
    "for i in range(len(location)):\n",
    "    loca = location[i]\n",
    "    if loc_null[i] == 0:\n",
    "        loc = loca.split(',')\n",
    "        #print(i)\n",
    "        xx.append(loc[0][1:])\n",
    "        yy.append(loc[1][:-1])\n",
    "    "
   ]
  },
  {
   "cell_type": "code",
   "execution_count": 46,
   "metadata": {},
   "outputs": [
    {
     "name": "stdout",
     "output_type": "stream",
     "text": [
      "['42.052982334727446', '42.0460107307921', '42.05301942527244', '42.025837474313164', '42.04338911487455']\n",
      "[' -87.69734651386223', ' -87.68378492477495', ' -87.68471901579495', ' -87.68535997696793', ' -87.70375540569039']\n"
     ]
    }
   ],
   "source": [
    "print(xx[:5])\n",
    "print(yy[:5])"
   ]
  },
  {
   "cell_type": "code",
   "execution_count": 47,
   "metadata": {},
   "outputs": [
    {
     "name": "stdout",
     "output_type": "stream",
     "text": [
      "42.01912576109617 42.067844181835355\n",
      " -87.66542545295692  -87.72626851879919\n"
     ]
    }
   ],
   "source": [
    "print(min(xx),max(xx))\n",
    "print(min(yy),max(yy))"
   ]
  },
  {
   "cell_type": "code",
   "execution_count": 48,
   "metadata": {
    "collapsed": true
   },
   "outputs": [],
   "source": [
    "ymin = -87.727\n",
    "ymax = -87.665\n",
    "xmax = 42.068\n",
    "xmin = 42.018"
   ]
  },
  {
   "cell_type": "code",
   "execution_count": 49,
   "metadata": {},
   "outputs": [
    {
     "data": {
      "image/png": "[encoded data removed]",
      "text/plain": [
       "<matplotlib.figure.Figure at 0x1de7dfdf1d0>"
      ]
     },
     "metadata": {},
     "output_type": "display_data"
    }
   ],
   "source": [
    "plt.scatter(xx,yy,c = 'r')\n",
    "plt.xlim((xmin,xmax))\n",
    "plt.ylim((ymin,ymax))\n",
    "plt.show()"
   ]
  },
  {
   "cell_type": "code",
   "execution_count": 51,
   "metadata": {},
   "outputs": [
    {
     "name": "stdout",
     "output_type": "stream",
     "text": [
      "(562, 662, 4)\n"
     ]
    },
    {
     "data": {
      "image/png": "[encoded data removed]",
      "text/plain": [
       "<matplotlib.figure.Figure at 0x1de7e0f75f8>"
      ]
     },
     "metadata": {},
     "output_type": "display_data"
    }
   ],
   "source": [
    "img = plt.imread('map2.png')\n",
    "implot = plt.imshow(img)\n",
    "print(img.shape)\n",
    "plt.scatter([0],[100])\n",
    "plt.show()"
   ]
  },
  {
   "cell_type": "code",
   "execution_count": 52,
   "metadata": {
    "collapsed": true
   },
   "outputs": [],
   "source": [
    "# print(max(float(xx)) - min(float(xx))) #538\n",
    "# print(max(float(yy)) - min(float(yy))) #581\n",
    "a = 42.067844181835355-42.01912576109617\n",
    "b = -87.72626851879919--87.66542545295692"
   ]
  },
  {
   "cell_type": "code",
   "execution_count": 53,
   "metadata": {
    "collapsed": true
   },
   "outputs": [],
   "source": [
    "xxx = []\n",
    "for i in xx:\n",
    "    val = np.float(i)\n",
    "    xxx.append(val)"
   ]
  },
  {
   "cell_type": "code",
   "execution_count": 54,
   "metadata": {
    "collapsed": true
   },
   "outputs": [],
   "source": [
    "yyy = []\n",
    "for i in yy:\n",
    "    val = np.float(i)\n",
    "    yyy.append(val)"
   ]
  },
  {
   "cell_type": "code",
   "execution_count": 55,
   "metadata": {
    "collapsed": true
   },
   "outputs": [],
   "source": [
    "new_x = abs(np.array(xxx) - 42.067844181835355) * (538/a)\n",
    "new_y = abs(np.array(yyy) + 87.72626851879919) * (581/-b)"
   ]
  },
  {
   "cell_type": "code",
   "execution_count": 60,
   "metadata": {},
   "outputs": [
    {
     "name": "stdout",
     "output_type": "stream",
     "text": [
      "(562, 662, 4)\n"
     ]
    },
    {
     "data": {
      "image/png": "[encoded data removed]",
      "text/plain": [
       "<matplotlib.figure.Figure at 0x1de7e285550>"
      ]
     },
     "metadata": {},
     "output_type": "display_data"
    }
   ],
   "source": [
    "img = plt.imread('map2.png')\n",
    "implot = plt.imshow(img)\n",
    "print(img.shape)\n",
    "plt.scatter(new_y,new_x,c = 'r')\n",
    "#plt.scatter(new_yc,new_xc,c = 'r')\n",
    "plt.show()"
   ]
  },
  {
   "cell_type": "code",
   "execution_count": 56,
   "metadata": {
    "collapsed": true
   },
   "outputs": [],
   "source": [
    "from mpl_toolkits.basemap import Basemap"
   ]
  },
  {
   "cell_type": "code",
   "execution_count": 148,
   "metadata": {},
   "outputs": [
    {
     "name": "stderr",
     "output_type": "stream",
     "text": [
      "c:\\users\\pumpkin\\anaconda3\\lib\\site-packages\\mpl_toolkits\\basemap\\__init__.py:3310: MatplotlibDeprecationWarning: The ishold function was deprecated in version 2.0.\n",
      "  b = ax.ishold()\n",
      "c:\\users\\pumpkin\\anaconda3\\lib\\site-packages\\mpl_toolkits\\basemap\\__init__.py:3319: MatplotlibDeprecationWarning: axes.hold is deprecated.\n",
      "    See the API Changes document (http://matplotlib.org/api/api_changes.html)\n",
      "    for more details.\n",
      "  ax.hold(b)\n"
     ]
    },
    {
     "data": {
      "text/plain": [
       "<matplotlib.collections.LineCollection at 0x12a4c0c0f98>"
      ]
     },
     "execution_count": 148,
     "metadata": {},
     "output_type": "execute_result"
    }
   ],
   "source": [
    "# 1. Draw the map background\n",
    "fig = plt.figure(figsize=(8, 8))\n",
    "m = Basemap(projection='lcc', resolution='h', \n",
    "            lat_0=42.05, lon_0=-87.65,\n",
    "            width=1E4, height=1.2E4)\n",
    "m.shadedrelief()\n",
    "m.drawcoastlines(color='gray')\n",
    "m.drawcountries(color='green')\n",
    "m.drawstates(color='gray')"
   ]
  },
  {
   "cell_type": "code",
   "execution_count": 149,
   "metadata": {},
   "outputs": [
    {
     "name": "stderr",
     "output_type": "stream",
     "text": [
      "c:\\users\\pumpkin\\anaconda3\\lib\\site-packages\\mpl_toolkits\\basemap\\__init__.py:3236: MatplotlibDeprecationWarning: The ishold function was deprecated in version 2.0.\n",
      "  b = ax.ishold()\n",
      "c:\\users\\pumpkin\\anaconda3\\lib\\site-packages\\mpl_toolkits\\basemap\\__init__.py:3245: MatplotlibDeprecationWarning: axes.hold is deprecated.\n",
      "    See the API Changes document (http://matplotlib.org/api/api_changes.html)\n",
      "    for more details.\n",
      "  ax.hold(b)\n"
     ]
    },
    {
     "data": {
      "text/plain": [
       "<matplotlib.collections.PathCollection at 0x12a4c2b2518>"
      ]
     },
     "execution_count": 149,
     "metadata": {},
     "output_type": "execute_result"
    }
   ],
   "source": [
    "m.scatter(yyy, xxx, latlon=True,\n",
    "          cmap='Reds', alpha=0.5)\n",
    "m.scatter(yc, xc, latlon=True,\n",
    "          c= 'r', alpha=0.5)"
   ]
  },
  {
   "cell_type": "code",
   "execution_count": 150,
   "metadata": {},
   "outputs": [
    {
     "data": {
      "image/png": "[encoded data removed]",
      "text/plain": [
       "<matplotlib.figure.Figure at 0x12a4de9fcf8>"
      ]
     },
     "metadata": {},
     "output_type": "display_data"
    }
   ],
   "source": [
    "plt.show()"
   ]
  },
  {
   "cell_type": "code",
   "execution_count": 108,
   "metadata": {
    "collapsed": true
   },
   "outputs": [],
   "source": [
    "# do the clustring by using mean shift method\n",
    "from sklearn.cluster import MeanShift,estimate_bandwidth"
   ]
  },
  {
   "cell_type": "code",
   "execution_count": 98,
   "metadata": {
    "collapsed": true
   },
   "outputs": [],
   "source": [
    "XY=zip(xxx,yyy)"
   ]
  },
  {
   "cell_type": "code",
   "execution_count": 105,
   "metadata": {
    "collapsed": true
   },
   "outputs": [],
   "source": [
    "XY = [list(a) for a in zip(xxx, yyy)]\n",
    "xy = np.array(XY)"
   ]
  },
  {
   "cell_type": "code",
   "execution_count": 107,
   "metadata": {},
   "outputs": [
    {
     "name": "stdout",
     "output_type": "stream",
     "text": [
      "(531, 2)\n"
     ]
    }
   ],
   "source": [
    "print(xy.shape)"
   ]
  },
  {
   "cell_type": "code",
   "execution_count": 142,
   "metadata": {},
   "outputs": [
    {
     "name": "stdout",
     "output_type": "stream",
     "text": [
      "0.010701948277584444\n"
     ]
    }
   ],
   "source": [
    "bandwidth = estimate_bandwidth(xy, quantile=0.2)\n",
    "print(bandwidth)"
   ]
  },
  {
   "cell_type": "code",
   "execution_count": 143,
   "metadata": {
    "collapsed": true
   },
   "outputs": [],
   "source": [
    "clustering = MeanShift(bandwidth=bandwidth).fit(xy)"
   ]
  },
  {
   "cell_type": "code",
   "execution_count": 144,
   "metadata": {},
   "outputs": [
    {
     "name": "stdout",
     "output_type": "stream",
     "text": [
      "[[ 42.04617225 -87.68485817]\n",
      " [ 42.02539485 -87.68442445]\n",
      " [ 42.04681984 -87.69921375]\n",
      " [ 42.02823862 -87.69941171]\n",
      " [ 42.0636739  -87.72275176]]\n"
     ]
    }
   ],
   "source": [
    "xyc = clustering.cluster_centers_\n",
    "print(xyc)"
   ]
  },
  {
   "cell_type": "code",
   "execution_count": 145,
   "metadata": {
    "collapsed": true
   },
   "outputs": [],
   "source": [
    "xc, yc = xyc.T"
   ]
  },
  {
   "cell_type": "code",
   "execution_count": 146,
   "metadata": {
    "collapsed": true
   },
   "outputs": [],
   "source": [
    "new_xc = abs(xc - 42.067844181835355) * (538/a)\n",
    "new_yc = abs(yc + 87.72626851879919) * (581/-b)"
   ]
  },
  {
   "cell_type": "code",
   "execution_count": null,
   "metadata": {
    "collapsed": true
   },
   "outputs": [],
   "source": []
  }
 ],
 "metadata": {
  "kernelspec": {
   "display_name": "Python 3",
   "language": "python",
   "name": "python3"
  },
  "language_info": {
   "codemirror_mode": {
    "name": "ipython",
    "version": 3
   },
   "file_extension": ".py",
   "mimetype": "text/x-python",
   "name": "python",
   "nbconvert_exporter": "python",
   "pygments_lexer": "ipython3",
   "version": "3.5.3"
  }
 },
 "nbformat": 4,
 "nbformat_minor": 2
}
